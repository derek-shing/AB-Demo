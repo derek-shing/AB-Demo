{
  "nbformat": 4,
  "nbformat_minor": 0,
  "metadata": {
    "colab": {
      "name": "Project2.ipynb",
      "version": "0.3.2",
      "provenance": [],
      "collapsed_sections": [
        "VMTF11lxyOCC",
        "0tnm5PGjvVJz"
      ],
      "toc_visible": true,
      "include_colab_link": true
    },
    "kernelspec": {
      "name": "python3",
      "display_name": "Python 3"
    }
  },
  "cells": [
    {
      "cell_type": "markdown",
      "metadata": {
        "id": "view-in-github",
        "colab_type": "text"
      },
      "source": [
        "<a href=\"https://colab.research.google.com/github/derek-shing/AB-Demo/blob/master/Project2.ipynb\" target=\"_parent\"><img src=\"https://colab.research.google.com/assets/colab-badge.svg\" alt=\"Open In Colab\"/></a>"
      ]
    },
    {
      "metadata": {
        "id": "DvmbR0Y7ezGk",
        "colab_type": "text"
      },
      "cell_type": "markdown",
      "source": [
        "#Loading Data"
      ]
    },
    {
      "metadata": {
        "id": "8e8p5Ftsek0V",
        "colab_type": "code",
        "colab": {}
      },
      "cell_type": "code",
      "source": [
        "import pandas as pd\n",
        "import numpy as np\n",
        "from google.colab import drive\n",
        "from sklearn.model_selection import train_test_split\n",
        "from sklearn.metrics import accuracy_score\n",
        "from sklearn.preprocessing import StandardScaler\n",
        "from sklearn.pipeline import make_pipeline\n",
        "from sklearn.linear_model import LogisticRegression\n",
        "from sklearn.neighbors import KNeighborsClassifier\n",
        "#from sklearn.preprocessing import OneHotEncoder\n",
        "from sklearn.ensemble import RandomForestClassifier\n",
        "import category_encoders as ce"
      ],
      "execution_count": 0,
      "outputs": []
    },
    {
      "metadata": {
        "id": "8uCL8_W_PMct",
        "colab_type": "code",
        "colab": {}
      },
      "cell_type": "code",
      "source": [
        "!pip install category_encoders"
      ],
      "execution_count": 0,
      "outputs": []
    },
    {
      "metadata": {
        "id": "5xwIHf7lfgCe",
        "colab_type": "code",
        "outputId": "8d9365a3-0e7e-40ab-c1a8-b6d67bd3287d",
        "colab": {
          "base_uri": "https://localhost:8080/",
          "height": 122
        }
      },
      "cell_type": "code",
      "source": [
        "drive.mount('/content/gdrive', force_remount=True)"
      ],
      "execution_count": 4,
      "outputs": [
        {
          "output_type": "stream",
          "text": [
            "Go to this URL in a browser: https://accounts.google.com/o/oauth2/auth?client_id=947318989803-6bn6qk8qdgf4n4g3pfee6491hc0brc4i.apps.googleusercontent.com&redirect_uri=urn%3Aietf%3Awg%3Aoauth%3A2.0%3Aoob&scope=email%20https%3A%2F%2Fwww.googleapis.com%2Fauth%2Fdocs.test%20https%3A%2F%2Fwww.googleapis.com%2Fauth%2Fdrive%20https%3A%2F%2Fwww.googleapis.com%2Fauth%2Fdrive.photos.readonly%20https%3A%2F%2Fwww.googleapis.com%2Fauth%2Fpeopleapi.readonly&response_type=code\n",
            "\n",
            "Enter your authorization code:\n",
            "··········\n",
            "Mounted at /content/gdrive\n"
          ],
          "name": "stdout"
        }
      ]
    },
    {
      "metadata": {
        "id": "xsNfKMMKftIc",
        "colab_type": "code",
        "colab": {}
      },
      "cell_type": "code",
      "source": [
        "train_features = pd.read_csv('/content/gdrive/My Drive/train_features.csv')\n",
        "train_labels = pd.read_csv('/content/gdrive/My Drive/train_labels.csv')\n",
        "test_features = pd.read_csv('/content/gdrive/My Drive/test_features.csv')\n",
        "submission = pd.read_csv('/content/gdrive/My Drive/sample_submission.csv')\n",
        "construction_year_median = train_features[train_features['construction_year']!=0]['construction_year'].median()\n",
        "install_less_than_300 =  train_features['installer'].value_counts()[train_features['installer'].value_counts()<300].index\n",
        "install_less_than_300= list(install_less_than_300)\n",
        "funder_less_than_100 =  train_features['funder'].value_counts()[train_features['funder'].value_counts()<100].index\n",
        "funder_less_than_100= list(funder_less_than_100)\n"
      ],
      "execution_count": 0,
      "outputs": []
    },
    {
      "metadata": {
        "id": "jZNA2PgETPBE",
        "colab_type": "code",
        "colab": {}
      },
      "cell_type": "code",
      "source": [
        "high_cardinality =list(train_features.select_dtypes(exclude=np.number).nunique()[train_features.select_dtypes(exclude=np.number).nunique()>50].index)"
      ],
      "execution_count": 0,
      "outputs": []
    },
    {
      "metadata": {
        "id": "kX330wPaiWk6",
        "colab_type": "code",
        "outputId": "448783a5-f05a-4c07-8980-bc2eb5f1c626",
        "colab": {
          "base_uri": "https://localhost:8080/",
          "height": 34
        }
      },
      "cell_type": "code",
      "source": [
        "train_features.shape, train_labels.shape, test_features.shape"
      ],
      "execution_count": 37,
      "outputs": [
        {
          "output_type": "execute_result",
          "data": {
            "text/plain": [
              "((59400, 40), (59400, 2), (14358, 40))"
            ]
          },
          "metadata": {
            "tags": []
          },
          "execution_count": 37
        }
      ]
    },
    {
      "metadata": {
        "id": "R4R0EYjvjMiR",
        "colab_type": "code",
        "colab": {}
      },
      "cell_type": "code",
      "source": [
        "train_features.funder.value_counts()"
      ],
      "execution_count": 0,
      "outputs": []
    },
    {
      "metadata": {
        "id": "OwcBbQjyjtPC",
        "colab_type": "code",
        "colab": {}
      },
      "cell_type": "code",
      "source": [
        "pd.options.display.max_columns=999\n",
        "pd.options.display.max_rows=999"
      ],
      "execution_count": 0,
      "outputs": []
    },
    {
      "metadata": {
        "id": "L0NLIWlLj89I",
        "colab_type": "code",
        "colab": {}
      },
      "cell_type": "code",
      "source": [
        "train_features.head().T"
      ],
      "execution_count": 0,
      "outputs": []
    },
    {
      "metadata": {
        "id": "Vjs38owwlAWN",
        "colab_type": "code",
        "colab": {}
      },
      "cell_type": "code",
      "source": [
        "y_train = train_labels['status_group']\n",
        "X_train = train_features.drop(columns='id')\n",
        "X_test  = test_features.drop(columns='id')"
      ],
      "execution_count": 0,
      "outputs": []
    },
    {
      "metadata": {
        "id": "31N4EdIyTTe2",
        "colab_type": "text"
      },
      "cell_type": "markdown",
      "source": [
        ""
      ]
    },
    {
      "metadata": {
        "id": "yyjBUdymlORA",
        "colab_type": "code",
        "colab": {}
      },
      "cell_type": "code",
      "source": [
        "train_labels.head()"
      ],
      "execution_count": 0,
      "outputs": []
    },
    {
      "metadata": {
        "id": "YnasR04UlrJz",
        "colab_type": "code",
        "outputId": "bcb4b11b-ac33-446d-b5fd-dac0cd71e937",
        "colab": {
          "base_uri": "https://localhost:8080/",
          "height": 34
        }
      },
      "cell_type": "code",
      "source": [
        "from sklearn.model_selection import train_test_split\n",
        "X_train, X_val, y_train, y_val = train_test_split(X_train, y_train)\n",
        "X_train.shape, X_val.shape, y_train.shape, y_val.shape"
      ],
      "execution_count": 331,
      "outputs": [
        {
          "output_type": "execute_result",
          "data": {
            "text/plain": [
              "((44550, 39), (14850, 39), (44550,), (14850,))"
            ]
          },
          "metadata": {
            "tags": []
          },
          "execution_count": 331
        }
      ]
    },
    {
      "metadata": {
        "id": "q2xmU7Jwl0U5",
        "colab_type": "code",
        "colab": {}
      },
      "cell_type": "code",
      "source": [
        "y_train.value_counts(normalize=True)"
      ],
      "execution_count": 0,
      "outputs": []
    },
    {
      "metadata": {
        "id": "soWQ-y3NwMXv",
        "colab_type": "code",
        "colab": {}
      },
      "cell_type": "code",
      "source": [
        "X_train.isnull().sum()"
      ],
      "execution_count": 0,
      "outputs": []
    },
    {
      "metadata": {
        "id": "VMTF11lxyOCC",
        "colab_type": "text"
      },
      "cell_type": "markdown",
      "source": [
        "# Study Relation"
      ]
    },
    {
      "metadata": {
        "id": "BVfEsumgyfEE",
        "colab_type": "code",
        "colab": {}
      },
      "cell_type": "code",
      "source": [
        "X_y =X_train.copy()"
      ],
      "execution_count": 0,
      "outputs": []
    },
    {
      "metadata": {
        "id": "aLqRULr90kll",
        "colab_type": "code",
        "colab": {}
      },
      "cell_type": "code",
      "source": [
        "X_y['y']=y_train"
      ],
      "execution_count": 0,
      "outputs": []
    },
    {
      "metadata": {
        "id": "bo0ZjKQk0oAY",
        "colab_type": "code",
        "colab": {
          "base_uri": "https://localhost:8080/",
          "height": 187
        },
        "outputId": "f9d1a817-2082-4186-803a-75949fc92f25"
      },
      "cell_type": "code",
      "source": [
        "X_y.columns"
      ],
      "execution_count": 174,
      "outputs": [
        {
          "output_type": "execute_result",
          "data": {
            "text/plain": [
              "Index(['amount_tsh', 'date_recorded', 'funder', 'gps_height', 'installer',\n",
              "       'longitude', 'latitude', 'wpt_name', 'num_private', 'basin',\n",
              "       'subvillage', 'region', 'region_code', 'district_code', 'lga', 'ward',\n",
              "       'population', 'public_meeting', 'recorded_by', 'scheme_management',\n",
              "       'scheme_name', 'permit', 'construction_year', 'extraction_type',\n",
              "       'extraction_type_group', 'extraction_type_class', 'management',\n",
              "       'management_group', 'payment', 'payment_type', 'water_quality',\n",
              "       'quality_group', 'quantity', 'quantity_group', 'source', 'source_type',\n",
              "       'source_class', 'waterpoint_type', 'waterpoint_type_group', 'y'],\n",
              "      dtype='object')"
            ]
          },
          "metadata": {
            "tags": []
          },
          "execution_count": 174
        }
      ]
    },
    {
      "metadata": {
        "id": "JryVl6SC0zQR",
        "colab_type": "code",
        "colab": {
          "base_uri": "https://localhost:8080/",
          "height": 173
        },
        "outputId": "14296910-619a-41ee-dcd3-5b425258087e"
      },
      "cell_type": "code",
      "source": [
        "pd.pivot_table(X_y,index=[\"permit\"],values=[\"y\"],aggfunc=[np.sum])"
      ],
      "execution_count": 179,
      "outputs": [
        {
          "output_type": "execute_result",
          "data": {
            "text/html": [
              "<div>\n",
              "<style scoped>\n",
              "    .dataframe tbody tr th:only-of-type {\n",
              "        vertical-align: middle;\n",
              "    }\n",
              "\n",
              "    .dataframe tbody tr th {\n",
              "        vertical-align: top;\n",
              "    }\n",
              "\n",
              "    .dataframe thead tr th {\n",
              "        text-align: left;\n",
              "    }\n",
              "\n",
              "    .dataframe thead tr:last-of-type th {\n",
              "        text-align: right;\n",
              "    }\n",
              "</style>\n",
              "<table border=\"1\" class=\"dataframe\">\n",
              "  <thead>\n",
              "    <tr>\n",
              "      <th></th>\n",
              "      <th>sum</th>\n",
              "    </tr>\n",
              "    <tr>\n",
              "      <th></th>\n",
              "      <th>y</th>\n",
              "    </tr>\n",
              "    <tr>\n",
              "      <th>permit</th>\n",
              "      <th></th>\n",
              "    </tr>\n",
              "  </thead>\n",
              "  <tbody>\n",
              "    <tr>\n",
              "      <th>False</th>\n",
              "      <td>14346</td>\n",
              "    </tr>\n",
              "    <tr>\n",
              "      <th>True</th>\n",
              "      <td>34471</td>\n",
              "    </tr>\n",
              "  </tbody>\n",
              "</table>\n",
              "</div>"
            ],
            "text/plain": [
              "          sum\n",
              "            y\n",
              "permit       \n",
              "False   14346\n",
              "True    34471"
            ]
          },
          "metadata": {
            "tags": []
          },
          "execution_count": 179
        }
      ]
    },
    {
      "metadata": {
        "id": "XDEAwiuU2t6R",
        "colab_type": "code",
        "colab": {
          "base_uri": "https://localhost:8080/",
          "height": 34
        },
        "outputId": "fd343956-6951-4f4d-d686-0454cefc3d0e"
      },
      "cell_type": "code",
      "source": [
        "X_y.public_meeting.isnull().sum()"
      ],
      "execution_count": 178,
      "outputs": [
        {
          "output_type": "execute_result",
          "data": {
            "text/plain": [
              "2475"
            ]
          },
          "metadata": {
            "tags": []
          },
          "execution_count": 178
        }
      ]
    },
    {
      "metadata": {
        "id": "nLNBjOYBDNLj",
        "colab_type": "code",
        "colab": {}
      },
      "cell_type": "code",
      "source": [
        "X_y.funder.value_counts()"
      ],
      "execution_count": 0,
      "outputs": []
    },
    {
      "metadata": {
        "id": "YksySem7PWg2",
        "colab_type": "code",
        "colab": {
          "base_uri": "https://localhost:8080/",
          "height": 937
        },
        "outputId": "e8b0ea78-8647-49b9-8790-556fd56a7738"
      },
      "cell_type": "code",
      "source": [
        "X_train_numeric.head().T"
      ],
      "execution_count": 324,
      "outputs": [
        {
          "output_type": "execute_result",
          "data": {
            "text/html": [
              "<div>\n",
              "<style scoped>\n",
              "    .dataframe tbody tr th:only-of-type {\n",
              "        vertical-align: middle;\n",
              "    }\n",
              "\n",
              "    .dataframe tbody tr th {\n",
              "        vertical-align: top;\n",
              "    }\n",
              "\n",
              "    .dataframe thead th {\n",
              "        text-align: right;\n",
              "    }\n",
              "</style>\n",
              "<table border=\"1\" class=\"dataframe\">\n",
              "  <thead>\n",
              "    <tr style=\"text-align: right;\">\n",
              "      <th></th>\n",
              "      <th>8078</th>\n",
              "      <th>9675</th>\n",
              "      <th>12273</th>\n",
              "      <th>57807</th>\n",
              "      <th>6335</th>\n",
              "    </tr>\n",
              "  </thead>\n",
              "  <tbody>\n",
              "    <tr>\n",
              "      <th>amount_tsh</th>\n",
              "      <td>0</td>\n",
              "      <td>0</td>\n",
              "      <td>25</td>\n",
              "      <td>0</td>\n",
              "      <td>0</td>\n",
              "    </tr>\n",
              "    <tr>\n",
              "      <th>funder</th>\n",
              "      <td>Kkkt</td>\n",
              "      <td>Unice</td>\n",
              "      <td>Lottery Club</td>\n",
              "      <td>Government Of Tanzania</td>\n",
              "      <td>Cmsr</td>\n",
              "    </tr>\n",
              "    <tr>\n",
              "      <th>gps_height</th>\n",
              "      <td>0</td>\n",
              "      <td>294</td>\n",
              "      <td>680</td>\n",
              "      <td>0</td>\n",
              "      <td>0</td>\n",
              "    </tr>\n",
              "    <tr>\n",
              "      <th>installer</th>\n",
              "      <td>KKKT</td>\n",
              "      <td>RWE</td>\n",
              "      <td>World vision</td>\n",
              "      <td>Government</td>\n",
              "      <td>Gove</td>\n",
              "    </tr>\n",
              "    <tr>\n",
              "      <th>longitude</th>\n",
              "      <td>32.8062</td>\n",
              "      <td>37.7629</td>\n",
              "      <td>37.4573</td>\n",
              "      <td>0</td>\n",
              "      <td>35.5417</td>\n",
              "    </tr>\n",
              "    <tr>\n",
              "      <th>latitude</th>\n",
              "      <td>-9.14852</td>\n",
              "      <td>-7.04897</td>\n",
              "      <td>-3.81732</td>\n",
              "      <td>-2e-08</td>\n",
              "      <td>-5.95419</td>\n",
              "    </tr>\n",
              "    <tr>\n",
              "      <th>num_private</th>\n",
              "      <td>0</td>\n",
              "      <td>0</td>\n",
              "      <td>0</td>\n",
              "      <td>0</td>\n",
              "      <td>0</td>\n",
              "    </tr>\n",
              "    <tr>\n",
              "      <th>basin</th>\n",
              "      <td>Lake Rukwa</td>\n",
              "      <td>Wami / Ruvu</td>\n",
              "      <td>Pangani</td>\n",
              "      <td>Lake Victoria</td>\n",
              "      <td>Internal</td>\n",
              "    </tr>\n",
              "    <tr>\n",
              "      <th>region</th>\n",
              "      <td>Mbeya</td>\n",
              "      <td>Morogoro</td>\n",
              "      <td>Manyara</td>\n",
              "      <td>Mwanza</td>\n",
              "      <td>Dodoma</td>\n",
              "    </tr>\n",
              "    <tr>\n",
              "      <th>region_code</th>\n",
              "      <td>12</td>\n",
              "      <td>5</td>\n",
              "      <td>21</td>\n",
              "      <td>19</td>\n",
              "      <td>1</td>\n",
              "    </tr>\n",
              "    <tr>\n",
              "      <th>district_code</th>\n",
              "      <td>6</td>\n",
              "      <td>2</td>\n",
              "      <td>4</td>\n",
              "      <td>6</td>\n",
              "      <td>6</td>\n",
              "    </tr>\n",
              "    <tr>\n",
              "      <th>lga</th>\n",
              "      <td>Mbozi</td>\n",
              "      <td>Morogoro Rural</td>\n",
              "      <td>Simanjiro</td>\n",
              "      <td>Geita</td>\n",
              "      <td>Bahi</td>\n",
              "    </tr>\n",
              "    <tr>\n",
              "      <th>population</th>\n",
              "      <td>0</td>\n",
              "      <td>150</td>\n",
              "      <td>250</td>\n",
              "      <td>0</td>\n",
              "      <td>0</td>\n",
              "    </tr>\n",
              "    <tr>\n",
              "      <th>public_meeting</th>\n",
              "      <td>1</td>\n",
              "      <td>1</td>\n",
              "      <td>1</td>\n",
              "      <td>1</td>\n",
              "      <td>1</td>\n",
              "    </tr>\n",
              "    <tr>\n",
              "      <th>recorded_by</th>\n",
              "      <td>GeoData Consultants Ltd</td>\n",
              "      <td>GeoData Consultants Ltd</td>\n",
              "      <td>GeoData Consultants Ltd</td>\n",
              "      <td>GeoData Consultants Ltd</td>\n",
              "      <td>GeoData Consultants Ltd</td>\n",
              "    </tr>\n",
              "    <tr>\n",
              "      <th>permit</th>\n",
              "      <td>0</td>\n",
              "      <td>1</td>\n",
              "      <td>1</td>\n",
              "      <td>1</td>\n",
              "      <td>1</td>\n",
              "    </tr>\n",
              "    <tr>\n",
              "      <th>construction_year</th>\n",
              "      <td>0</td>\n",
              "      <td>1972</td>\n",
              "      <td>2009</td>\n",
              "      <td>0</td>\n",
              "      <td>0</td>\n",
              "    </tr>\n",
              "    <tr>\n",
              "      <th>extraction_type</th>\n",
              "      <td>nira/tanira</td>\n",
              "      <td>gravity</td>\n",
              "      <td>gravity</td>\n",
              "      <td>ksb</td>\n",
              "      <td>other</td>\n",
              "    </tr>\n",
              "    <tr>\n",
              "      <th>management</th>\n",
              "      <td>vwc</td>\n",
              "      <td>vwc</td>\n",
              "      <td>vwc</td>\n",
              "      <td>vwc</td>\n",
              "      <td>vwc</td>\n",
              "    </tr>\n",
              "    <tr>\n",
              "      <th>payment</th>\n",
              "      <td>pay when scheme fails</td>\n",
              "      <td>never pay</td>\n",
              "      <td>pay per bucket</td>\n",
              "      <td>never pay</td>\n",
              "      <td>never pay</td>\n",
              "    </tr>\n",
              "    <tr>\n",
              "      <th>payment_type</th>\n",
              "      <td>on failure</td>\n",
              "      <td>never pay</td>\n",
              "      <td>per bucket</td>\n",
              "      <td>never pay</td>\n",
              "      <td>never pay</td>\n",
              "    </tr>\n",
              "    <tr>\n",
              "      <th>water_quality</th>\n",
              "      <td>soft</td>\n",
              "      <td>soft</td>\n",
              "      <td>soft</td>\n",
              "      <td>unknown</td>\n",
              "      <td>soft</td>\n",
              "    </tr>\n",
              "    <tr>\n",
              "      <th>quality_group</th>\n",
              "      <td>5</td>\n",
              "      <td>5</td>\n",
              "      <td>5</td>\n",
              "      <td>0</td>\n",
              "      <td>5</td>\n",
              "    </tr>\n",
              "    <tr>\n",
              "      <th>quantity</th>\n",
              "      <td>enough</td>\n",
              "      <td>insufficient</td>\n",
              "      <td>enough</td>\n",
              "      <td>dry</td>\n",
              "      <td>enough</td>\n",
              "    </tr>\n",
              "    <tr>\n",
              "      <th>source</th>\n",
              "      <td>shallow well</td>\n",
              "      <td>river</td>\n",
              "      <td>dam</td>\n",
              "      <td>lake</td>\n",
              "      <td>shallow well</td>\n",
              "    </tr>\n",
              "    <tr>\n",
              "      <th>source_type</th>\n",
              "      <td>shallow well</td>\n",
              "      <td>river/lake</td>\n",
              "      <td>dam</td>\n",
              "      <td>river/lake</td>\n",
              "      <td>shallow well</td>\n",
              "    </tr>\n",
              "    <tr>\n",
              "      <th>waterpoint_type</th>\n",
              "      <td>hand pump</td>\n",
              "      <td>communal standpipe</td>\n",
              "      <td>communal standpipe multiple</td>\n",
              "      <td>communal standpipe multiple</td>\n",
              "      <td>other</td>\n",
              "    </tr>\n",
              "  </tbody>\n",
              "</table>\n",
              "</div>"
            ],
            "text/plain": [
              "                                     8078                     9675   \\\n",
              "amount_tsh                               0                        0   \n",
              "funder                                Kkkt                    Unice   \n",
              "gps_height                               0                      294   \n",
              "installer                             KKKT                      RWE   \n",
              "longitude                          32.8062                  37.7629   \n",
              "latitude                          -9.14852                 -7.04897   \n",
              "num_private                              0                        0   \n",
              "basin                           Lake Rukwa              Wami / Ruvu   \n",
              "region                               Mbeya                 Morogoro   \n",
              "region_code                             12                        5   \n",
              "district_code                            6                        2   \n",
              "lga                                  Mbozi           Morogoro Rural   \n",
              "population                               0                      150   \n",
              "public_meeting                           1                        1   \n",
              "recorded_by        GeoData Consultants Ltd  GeoData Consultants Ltd   \n",
              "permit                                   0                        1   \n",
              "construction_year                        0                     1972   \n",
              "extraction_type                nira/tanira                  gravity   \n",
              "management                             vwc                      vwc   \n",
              "payment              pay when scheme fails                never pay   \n",
              "payment_type                    on failure                never pay   \n",
              "water_quality                         soft                     soft   \n",
              "quality_group                            5                        5   \n",
              "quantity                            enough             insufficient   \n",
              "source                        shallow well                    river   \n",
              "source_type                   shallow well               river/lake   \n",
              "waterpoint_type                  hand pump       communal standpipe   \n",
              "\n",
              "                                         12273                        57807  \\\n",
              "amount_tsh                                  25                            0   \n",
              "funder                            Lottery Club       Government Of Tanzania   \n",
              "gps_height                                 680                            0   \n",
              "installer                         World vision                   Government   \n",
              "longitude                              37.4573                            0   \n",
              "latitude                              -3.81732                       -2e-08   \n",
              "num_private                                  0                            0   \n",
              "basin                                  Pangani                Lake Victoria   \n",
              "region                                 Manyara                       Mwanza   \n",
              "region_code                                 21                           19   \n",
              "district_code                                4                            6   \n",
              "lga                                  Simanjiro                        Geita   \n",
              "population                                 250                            0   \n",
              "public_meeting                               1                            1   \n",
              "recorded_by            GeoData Consultants Ltd      GeoData Consultants Ltd   \n",
              "permit                                       1                            1   \n",
              "construction_year                         2009                            0   \n",
              "extraction_type                        gravity                          ksb   \n",
              "management                                 vwc                          vwc   \n",
              "payment                         pay per bucket                    never pay   \n",
              "payment_type                        per bucket                    never pay   \n",
              "water_quality                             soft                      unknown   \n",
              "quality_group                                5                            0   \n",
              "quantity                                enough                          dry   \n",
              "source                                     dam                         lake   \n",
              "source_type                                dam                   river/lake   \n",
              "waterpoint_type    communal standpipe multiple  communal standpipe multiple   \n",
              "\n",
              "                                     6335   \n",
              "amount_tsh                               0  \n",
              "funder                                Cmsr  \n",
              "gps_height                               0  \n",
              "installer                             Gove  \n",
              "longitude                          35.5417  \n",
              "latitude                          -5.95419  \n",
              "num_private                              0  \n",
              "basin                             Internal  \n",
              "region                              Dodoma  \n",
              "region_code                              1  \n",
              "district_code                            6  \n",
              "lga                                   Bahi  \n",
              "population                               0  \n",
              "public_meeting                           1  \n",
              "recorded_by        GeoData Consultants Ltd  \n",
              "permit                                   1  \n",
              "construction_year                        0  \n",
              "extraction_type                      other  \n",
              "management                             vwc  \n",
              "payment                          never pay  \n",
              "payment_type                     never pay  \n",
              "water_quality                         soft  \n",
              "quality_group                            5  \n",
              "quantity                            enough  \n",
              "source                        shallow well  \n",
              "source_type                   shallow well  \n",
              "waterpoint_type                      other  "
            ]
          },
          "metadata": {
            "tags": []
          },
          "execution_count": 324
        }
      ]
    },
    {
      "metadata": {
        "id": "f2Gq1vG-RdrS",
        "colab_type": "code",
        "colab": {}
      },
      "cell_type": "code",
      "source": [
        "X_train_numeric.region.value_counts()"
      ],
      "execution_count": 0,
      "outputs": []
    },
    {
      "metadata": {
        "id": "7jwUQFVWRo-y",
        "colab_type": "code",
        "colab": {}
      },
      "cell_type": "code",
      "source": [
        "X_train_numeric.region.value_counts()"
      ],
      "execution_count": 0,
      "outputs": []
    },
    {
      "metadata": {
        "id": "P-rx5hhYR_HT",
        "colab_type": "code",
        "colab": {
          "base_uri": "https://localhost:8080/",
          "height": 119
        },
        "outputId": "90c85c35-d53c-4ac6-bb36-34df2c22b6cd"
      },
      "cell_type": "code",
      "source": [
        "X_train_numeric.quantity.value_counts()"
      ],
      "execution_count": 327,
      "outputs": [
        {
          "output_type": "execute_result",
          "data": {
            "text/plain": [
              "enough          24904\n",
              "insufficient    11315\n",
              "dry              4707\n",
              "seasonal         3016\n",
              "unknown           608\n",
              "Name: quantity, dtype: int64"
            ]
          },
          "metadata": {
            "tags": []
          },
          "execution_count": 327
        }
      ]
    },
    {
      "metadata": {
        "id": "W9ebXA07m4CW",
        "colab_type": "text"
      },
      "cell_type": "markdown",
      "source": [
        "#Modeling"
      ]
    },
    {
      "metadata": {
        "id": "mpCIHLUzv3Mi",
        "colab_type": "code",
        "colab": {}
      },
      "cell_type": "code",
      "source": [
        "def wrangle_3(X):\n",
        "  X = X.copy()\n",
        "  low_cardinality = ['basin','region',\n",
        "       'extraction_type_group', 'extraction_type_class', 'management',\n",
        "       'management_group', 'payment', 'payment_type', 'water_quality',\n",
        "       'quantity', 'source', 'source_type','quantity_group',\n",
        "       'source_class', 'waterpoint_type', 'waterpoint_type_group']\n",
        "  \n",
        "  #install_less_than_300 =  X['installer'].value_counts()[X['installer'].value_counts()<300].index\n",
        "  #install_less_than_300= list(install_less_than_300)\n",
        "  #print(install_less_than_300)\n",
        "  X[X['installer'].isin(install_less_than_300)]['installer']='Other'\n",
        "  X['installer']=X['installer'].fillna('Other')\n",
        "  \n",
        "  X[X['funder'].isin(funder_less_than_100)]['funder']='Other'\n",
        "  X['funder']=X['funder'].fillna('Other')\n",
        "  \n",
        "  #X.installer.value_counts()\n",
        "  \n",
        "  #X=pd.get_dummies(X,columns=low_cardinality)\n",
        "  quality_group_map = {'unknown':0,'salty':1,'milky':2,'colored':3,'fluoride':4,'good':5}\n",
        "  X['quality_group'] =  X['quality_group'].map(quality_group_map)\n",
        "  #X['quality_group_square']=X['quality_group']**2\n",
        "  \n",
        "  #quantity_map ={'dry':0,'insufficient':1,'unknown':2,'seasonal':3,'enough':4}\n",
        "  #X['quantity'] = X['quantity'].replace(quantity_map)\n",
        "  \n",
        "  X['permit']=X['permit'].fillna(False)\n",
        "  X['permit']=X['permit'].replace({True:1,False:0})\n",
        " \n",
        "  X['public_meeting']=X['public_meeting'].fillna(False)\n",
        "  X['public_meeting']=X['public_meeting'].replace({True:1,False:0})  \n",
        "  \n",
        "   \n",
        "  high_cardinality =['date_recorded','wpt_name','subvillage','ward','scheme_name']\n",
        "  X=X.drop(high_cardinality, axis=1)\n",
        "  X=X.drop(['scheme_management'], axis=1)\n",
        "  \n",
        "  subclass_feature=['extraction_type_class','extraction_type_group','quantity_group',\n",
        "                    'waterpoint_type_group','management_group','source_class','region']\n",
        "  X=X.drop(subclass_feature,axis=1)\n",
        "  \n",
        "  X['construction_year'].replace({0:construction_year_median})\n",
        "  #X['Age_square']=(2018-X['construction_year'])**2\n",
        "  #print(X.isnull().sum())\n",
        "  #print(X.columns)\n",
        "  return X\n"
      ],
      "execution_count": 0,
      "outputs": []
    },
    {
      "metadata": {
        "id": "CvVZr2_eo9YL",
        "colab_type": "code",
        "colab": {
          "base_uri": "https://localhost:8080/",
          "height": 241
        },
        "outputId": "97b2a5f2-3f66-45a6-ca89-d6a59a8c0636"
      },
      "cell_type": "code",
      "source": [
        "X_train_numeric = wrangle_3(X_train)\n",
        "X_val_numeric = wrangle_3(X_val)\n",
        "X_test_numeric = wrangle_3(X_test)"
      ],
      "execution_count": 332,
      "outputs": [
        {
          "output_type": "stream",
          "text": [
            "/usr/local/lib/python3.6/dist-packages/ipykernel_launcher.py:12: SettingWithCopyWarning: \n",
            "A value is trying to be set on a copy of a slice from a DataFrame.\n",
            "Try using .loc[row_indexer,col_indexer] = value instead\n",
            "\n",
            "See the caveats in the documentation: http://pandas.pydata.org/pandas-docs/stable/indexing.html#indexing-view-versus-copy\n",
            "  if sys.path[0] == '':\n",
            "/usr/local/lib/python3.6/dist-packages/ipykernel_launcher.py:15: SettingWithCopyWarning: \n",
            "A value is trying to be set on a copy of a slice from a DataFrame.\n",
            "Try using .loc[row_indexer,col_indexer] = value instead\n",
            "\n",
            "See the caveats in the documentation: http://pandas.pydata.org/pandas-docs/stable/indexing.html#indexing-view-versus-copy\n",
            "  from ipykernel import kernelapp as app\n"
          ],
          "name": "stderr"
        }
      ]
    },
    {
      "metadata": {
        "id": "DlhhNfxn3FWo",
        "colab_type": "code",
        "outputId": "998d5810-0934-4905-a016-028f818080a6",
        "colab": {
          "base_uri": "https://localhost:8080/",
          "height": 34
        }
      },
      "cell_type": "code",
      "source": [
        "X_train_numeric.shape, X_val_numeric.shape,X_test_numeric.shape"
      ],
      "execution_count": 333,
      "outputs": [
        {
          "output_type": "execute_result",
          "data": {
            "text/plain": [
              "((44550, 26), (14850, 26), (14358, 26))"
            ]
          },
          "metadata": {
            "tags": []
          },
          "execution_count": 333
        }
      ]
    },
    {
      "metadata": {
        "id": "2XYnit2-MCx8",
        "colab_type": "code",
        "colab": {
          "base_uri": "https://localhost:8080/",
          "height": 34
        },
        "outputId": "cd90cc2b-7914-462a-aac4-931421190b0a"
      },
      "cell_type": "code",
      "source": [
        "set(X_test_numeric.columns)-set(X_val_numeric.columns)"
      ],
      "execution_count": 16,
      "outputs": [
        {
          "output_type": "execute_result",
          "data": {
            "text/plain": [
              "set()"
            ]
          },
          "metadata": {
            "tags": []
          },
          "execution_count": 16
        }
      ]
    },
    {
      "metadata": {
        "id": "wCIQVbjJdGsZ",
        "colab_type": "code",
        "colab": {}
      },
      "cell_type": "code",
      "source": [
        "X_train_numeric.quality_group.value_counts()"
      ],
      "execution_count": 0,
      "outputs": []
    },
    {
      "metadata": {
        "id": "gD9QlUedop3p",
        "colab_type": "code",
        "colab": {}
      },
      "cell_type": "code",
      "source": [
        "X_train_numeric.isnull().sum()"
      ],
      "execution_count": 0,
      "outputs": []
    },
    {
      "metadata": {
        "id": "elO9b1NxmxzK",
        "colab_type": "code",
        "colab": {}
      },
      "cell_type": "code",
      "source": [
        "pipeline = make_pipeline(\n",
        "    ce.OneHotEncoder(use_cat_names=True),\n",
        "    StandardScaler(),\n",
        "    #LogisticRegression(solver='lbfgs',multi_class='multinomial',max_iter=10000)\n",
        "    #KNeighborsClassifier()\n",
        "    RandomForestClassifier()\n",
        ")\n"
      ],
      "execution_count": 0,
      "outputs": []
    },
    {
      "metadata": {
        "id": "NXMIyCSdPHPR",
        "colab_type": "code",
        "colab": {}
      },
      "cell_type": "code",
      "source": [
        "X_train_q=pd.get_dummies(X_train,columns=['quality_group'])"
      ],
      "execution_count": 0,
      "outputs": []
    },
    {
      "metadata": {
        "id": "fQJZAVrgQMkn",
        "colab_type": "code",
        "colab": {}
      },
      "cell_type": "code",
      "source": [
        "X_try=X_train_q[['quality_group_colored',\n",
        "       'quality_group_fluoride', 'quality_group_good', 'quality_group_milky',\n",
        "       'quality_group_salty', 'quality_group_unknown', 'y']]"
      ],
      "execution_count": 0,
      "outputs": []
    },
    {
      "metadata": {
        "id": "K7kcxcziRFsm",
        "colab_type": "code",
        "outputId": "76ea2369-b744-49f3-c561-52e71be38000",
        "colab": {
          "base_uri": "https://localhost:8080/",
          "height": 139
        }
      },
      "cell_type": "code",
      "source": [
        "X_try.y.value_counts()\n",
        "X_try.y=X_try.y.map(status_map)"
      ],
      "execution_count": 0,
      "outputs": [
        {
          "output_type": "stream",
          "text": [
            "/usr/local/lib/python3.6/dist-packages/pandas/core/generic.py:3643: SettingWithCopyWarning: \n",
            "A value is trying to be set on a copy of a slice from a DataFrame.\n",
            "Try using .loc[row_indexer,col_indexer] = value instead\n",
            "\n",
            "See the caveats in the documentation: http://pandas.pydata.org/pandas-docs/stable/indexing.html#indexing-view-versus-copy\n",
            "  self[name] = value\n"
          ],
          "name": "stderr"
        }
      ]
    },
    {
      "metadata": {
        "id": "MWk2b8xCRLZP",
        "colab_type": "code",
        "colab": {}
      },
      "cell_type": "code",
      "source": [
        "status_map={'non functional':0,'functional needs repair':1,'functional':2}"
      ],
      "execution_count": 0,
      "outputs": []
    },
    {
      "metadata": {
        "id": "2azMn1z6RkW0",
        "colab_type": "code",
        "colab": {}
      },
      "cell_type": "code",
      "source": [
        "y_train = y_train.replace(status_map)"
      ],
      "execution_count": 0,
      "outputs": []
    },
    {
      "metadata": {
        "id": "2FtsCcH5_DBc",
        "colab_type": "code",
        "colab": {}
      },
      "cell_type": "code",
      "source": [
        "y_train"
      ],
      "execution_count": 0,
      "outputs": []
    },
    {
      "metadata": {
        "id": "KTxXrTpnpNh_",
        "colab_type": "code",
        "outputId": "e3d3429d-7a9d-4b88-bfe0-f12887305255",
        "colab": {
          "base_uri": "https://localhost:8080/",
          "height": 139
        }
      },
      "cell_type": "code",
      "source": [
        "m = pipeline.fit(X_train_numeric,y_train)"
      ],
      "execution_count": 337,
      "outputs": [
        {
          "output_type": "stream",
          "text": [
            "/usr/local/lib/python3.6/dist-packages/sklearn/preprocessing/data.py:645: DataConversionWarning: Data with input dtype int64, float64 were all converted to float64 by StandardScaler.\n",
            "  return self.partial_fit(X, y)\n",
            "/usr/local/lib/python3.6/dist-packages/sklearn/base.py:467: DataConversionWarning: Data with input dtype int64, float64 were all converted to float64 by StandardScaler.\n",
            "  return self.fit(X, y, **fit_params).transform(X)\n",
            "/usr/local/lib/python3.6/dist-packages/sklearn/ensemble/forest.py:246: FutureWarning: The default value of n_estimators will change from 10 in version 0.20 to 100 in 0.22.\n",
            "  \"10 in version 0.20 to 100 in 0.22.\", FutureWarning)\n"
          ],
          "name": "stderr"
        }
      ]
    },
    {
      "metadata": {
        "id": "fUmZVLNiyXZu",
        "colab_type": "code",
        "colab": {}
      },
      "cell_type": "code",
      "source": [
        "X_train.quality_group.value_counts()"
      ],
      "execution_count": 0,
      "outputs": []
    },
    {
      "metadata": {
        "id": "RyH0IkQZYuZ2",
        "colab_type": "code",
        "colab": {}
      },
      "cell_type": "code",
      "source": [
        "X_train_numeric.select_dtypes(exclude = np.number).nunique()"
      ],
      "execution_count": 0,
      "outputs": []
    },
    {
      "metadata": {
        "id": "y5Cv_DPuZjDh",
        "colab_type": "code",
        "colab": {}
      },
      "cell_type": "code",
      "source": [
        "X_train_numeric.extraction_type.value_counts()"
      ],
      "execution_count": 0,
      "outputs": []
    },
    {
      "metadata": {
        "id": "m21XvznTZxnx",
        "colab_type": "code",
        "colab": {}
      },
      "cell_type": "code",
      "source": [
        "  X_train_numeric.extraction_type_group.value_counts()"
      ],
      "execution_count": 0,
      "outputs": []
    },
    {
      "metadata": {
        "id": "DDXqs4GUaCTQ",
        "colab_type": "code",
        "colab": {}
      },
      "cell_type": "code",
      "source": [
        "  X_train_numeric.extraction_type_class.value_counts()"
      ],
      "execution_count": 0,
      "outputs": []
    },
    {
      "metadata": {
        "id": "0tnm5PGjvVJz",
        "colab_type": "text"
      },
      "cell_type": "markdown",
      "source": [
        "#Old Transform"
      ]
    },
    {
      "metadata": {
        "id": "Cdxq8e7RmoSW",
        "colab_type": "code",
        "colab": {}
      },
      "cell_type": "code",
      "source": [
        "def wrangle(X):\n",
        "  X = X.copy()\n",
        "  low_cardinality = ['basin','region',\n",
        "       'extraction_type_group', 'extraction_type_class', 'management',\n",
        "       'management_group', 'payment', 'payment_type', 'water_quality',\n",
        "       'quantity', 'source', 'source_type','quantity_group',\n",
        "       'source_class', 'waterpoint_type', 'waterpoint_type_group']\n",
        "  \n",
        "  X=pd.get_dummies(X,columns=low_cardinality)\n",
        "  quality_group_map = {'unknown':0,'salty':1,'milky':2,'colored':3,'fluoride':4,'good':5}\n",
        "  X['quality_group'] =  X['quality_group'].map(quality_group_map)\n",
        "  X['quality_group_square']=X['quality_group']**2\n",
        "  \n",
        "  X = X.select_dtypes(np.number)\n",
        "  \n",
        "  \n",
        "  return X\n",
        "\n",
        "def wrangle_OneCode(X):\n",
        "  X = X.copy()\n",
        "  low_cardinality = ['basin','region',\n",
        "       'extraction_type_group', 'extraction_type_class', 'management',\n",
        "       'management_group', 'payment', 'payment_type', 'water_quality',\n",
        "       'quantity', 'source', 'source_type','quantity_group',\n",
        "       'source_class', 'waterpoint_type', 'waterpoint_type_group']\n",
        "  \n",
        "  #install_less_than_300 =  X['installer'].value_counts()[X['installer'].value_counts()<300].index\n",
        "  #install_less_than_300= list(install_less_than_300)\n",
        "  #print(install_less_than_300)\n",
        "  X[X['installer'].isin(install_less_than_300)]['installer']='Other'\n",
        "  X['installer']=X['installer'].fillna('Other')\n",
        "  \n",
        "  #X.installer.value_counts()\n",
        "  \n",
        "  #X=pd.get_dummies(X,columns=low_cardinality)\n",
        "  quality_group_map = {'unknown':0,'salty':1,'milky':2,'colored':3,'fluoride':4,'good':5}\n",
        "  X['quality_group'] =  X['quality_group'].map(quality_group_map)\n",
        "  #X['quality_group_square']=X['quality_group']**2\n",
        "   \n",
        "  high_cardinality =['date_recorded','funder','wpt_name','subvillage','ward','scheme_name']\n",
        "  X=X.drop(high_cardinality, axis=1)\n",
        "  X=X.drop(['public_meeting','scheme_management','permit'], axis=1)\n",
        "  \n",
        "  subclass_feature=['extraction_type_class','extraction_type_group']\n",
        "  #X=X.drop(subclass_feature,axis=1)\n",
        "  \n",
        "  #X['construction_year'].replace({0:construction_year_mean})\n",
        "  #X['Age_square']=(2018-X['construction_year'])**2\n",
        "  #print(X.isnull().sum())\n",
        "  #print(X.columns)\n",
        "  return X\n"
      ],
      "execution_count": 0,
      "outputs": []
    },
    {
      "metadata": {
        "id": "JxpvgXGovmYh",
        "colab_type": "text"
      },
      "cell_type": "markdown",
      "source": [
        "# Fit and predict and val"
      ]
    },
    {
      "metadata": {
        "id": "-rnKjq3tvSNU",
        "colab_type": "code",
        "colab": {}
      },
      "cell_type": "code",
      "source": [
        ""
      ],
      "execution_count": 0,
      "outputs": []
    },
    {
      "metadata": {
        "id": "AVcOl_YZKxTf",
        "colab_type": "code",
        "colab": {}
      },
      "cell_type": "code",
      "source": [
        "X_train.quality_group.value_counts()"
      ],
      "execution_count": 0,
      "outputs": []
    },
    {
      "metadata": {
        "id": "CshEdSxl_r0M",
        "colab_type": "code",
        "colab": {}
      },
      "cell_type": "code",
      "source": [
        "list(X_train.select_dtypes(exclude=np.number).nunique()[X_train.select_dtypes(exclude=np.number).nunique()>100].index)"
      ],
      "execution_count": 0,
      "outputs": []
    },
    {
      "metadata": {
        "id": "ZTor8yvaR5LE",
        "colab_type": "code",
        "colab": {}
      },
      "cell_type": "code",
      "source": [
        "X_train['construction_year'].replace({0:X_train['construction_year'].mean()})"
      ],
      "execution_count": 0,
      "outputs": []
    },
    {
      "metadata": {
        "id": "K28DInibS0Iq",
        "colab_type": "code",
        "colab": {}
      },
      "cell_type": "code",
      "source": [
        "construction_year_mean = X_train[X_train['construction_year']!=0]['construction_year'].mean()"
      ],
      "execution_count": 0,
      "outputs": []
    },
    {
      "metadata": {
        "id": "HSCvWjmM6ApD",
        "colab_type": "code",
        "colab": {}
      },
      "cell_type": "code",
      "source": [
        "wrangle_OneCode(X_train).isnull().sum()"
      ],
      "execution_count": 0,
      "outputs": []
    },
    {
      "metadata": {
        "id": "T6B31kvoplbI",
        "colab_type": "code",
        "outputId": "9af0c12b-e255-4452-a51a-f586546a1d51",
        "colab": {
          "base_uri": "https://localhost:8080/",
          "height": 71
        }
      },
      "cell_type": "code",
      "source": [
        "y_pred=m.predict(X_val_numeric)"
      ],
      "execution_count": 338,
      "outputs": [
        {
          "output_type": "stream",
          "text": [
            "/usr/local/lib/python3.6/dist-packages/sklearn/pipeline.py:331: DataConversionWarning: Data with input dtype int64, float64 were all converted to float64 by StandardScaler.\n",
            "  Xt = transform.transform(Xt)\n"
          ],
          "name": "stderr"
        }
      ]
    },
    {
      "metadata": {
        "id": "-r-vLnegX1o1",
        "colab_type": "code",
        "colab": {}
      },
      "cell_type": "code",
      "source": [
        "y_val=y_val.map(status_map)"
      ],
      "execution_count": 0,
      "outputs": []
    },
    {
      "metadata": {
        "id": "xQytjWwXwWJp",
        "colab_type": "code",
        "outputId": "6d5c0850-80fe-4609-8888-65ef3af01f6d",
        "colab": {
          "base_uri": "https://localhost:8080/",
          "height": 34
        }
      },
      "cell_type": "code",
      "source": [
        "y_pred"
      ],
      "execution_count": 271,
      "outputs": [
        {
          "output_type": "execute_result",
          "data": {
            "text/plain": [
              "array([2, 2, 0, ..., 1, 2, 2])"
            ]
          },
          "metadata": {
            "tags": []
          },
          "execution_count": 271
        }
      ]
    },
    {
      "metadata": {
        "id": "KwjAOeDSv6ay",
        "colab_type": "code",
        "colab": {}
      },
      "cell_type": "code",
      "source": [
        "y_val"
      ],
      "execution_count": 0,
      "outputs": []
    },
    {
      "metadata": {
        "id": "2cpNxEl9puGx",
        "colab_type": "code",
        "outputId": "e9480bf8-79e7-4df1-f6d6-62e0c1ec1eda",
        "colab": {
          "base_uri": "https://localhost:8080/",
          "height": 34
        }
      },
      "cell_type": "code",
      "source": [
        "accuracy_score(y_val,y_pred)"
      ],
      "execution_count": 340,
      "outputs": [
        {
          "output_type": "execute_result",
          "data": {
            "text/plain": [
              "0.7783838383838384"
            ]
          },
          "metadata": {
            "tags": []
          },
          "execution_count": 340
        }
      ]
    },
    {
      "metadata": {
        "id": "Mf9tZAk_p2bZ",
        "colab_type": "code",
        "outputId": "c457b237-004c-4cae-dd78-78c615573c15",
        "colab": {
          "base_uri": "https://localhost:8080/",
          "height": 85
        }
      },
      "cell_type": "code",
      "source": [
        "pd.Series(y_pred).value_counts()"
      ],
      "execution_count": 341,
      "outputs": [
        {
          "output_type": "execute_result",
          "data": {
            "text/plain": [
              "2    8229\n",
              "0    5776\n",
              "1     845\n",
              "dtype: int64"
            ]
          },
          "metadata": {
            "tags": []
          },
          "execution_count": 341
        }
      ]
    },
    {
      "metadata": {
        "id": "5k8PBHEZm8wu",
        "colab_type": "text"
      },
      "cell_type": "markdown",
      "source": [
        "#Testing"
      ]
    },
    {
      "metadata": {
        "id": "68V5j_5HYJGj",
        "colab_type": "code",
        "outputId": "0cf3c7a1-4f93-4612-9e48-5ba166959695",
        "colab": {
          "base_uri": "https://localhost:8080/",
          "height": 71
        }
      },
      "cell_type": "code",
      "source": [
        "y_pred=m.predict(X_test_numeric)"
      ],
      "execution_count": 342,
      "outputs": [
        {
          "output_type": "stream",
          "text": [
            "/usr/local/lib/python3.6/dist-packages/sklearn/pipeline.py:331: DataConversionWarning: Data with input dtype int64, float64 were all converted to float64 by StandardScaler.\n",
            "  Xt = transform.transform(Xt)\n"
          ],
          "name": "stderr"
        }
      ]
    },
    {
      "metadata": {
        "id": "O6O-EuB6YvaO",
        "colab_type": "code",
        "colab": {}
      },
      "cell_type": "code",
      "source": [
        "y_pred = pd.Series(y_pred)"
      ],
      "execution_count": 0,
      "outputs": []
    },
    {
      "metadata": {
        "id": "l9YEAihpY2iW",
        "colab_type": "code",
        "colab": {}
      },
      "cell_type": "code",
      "source": [
        "status_map_r = {0:'non functional',1:'functional needs repair',2:'functional'}"
      ],
      "execution_count": 0,
      "outputs": []
    },
    {
      "metadata": {
        "id": "UtsSXuQgZI5L",
        "colab_type": "code",
        "colab": {}
      },
      "cell_type": "code",
      "source": [
        "y_pred = y_pred.replace(status_map_r)"
      ],
      "execution_count": 0,
      "outputs": []
    },
    {
      "metadata": {
        "id": "5Gnzk2QKbcn4",
        "colab_type": "code",
        "outputId": "f0ae5ef6-f31b-4819-8aec-5713a8d189e6",
        "colab": {
          "base_uri": "https://localhost:8080/",
          "height": 85
        }
      },
      "cell_type": "code",
      "source": [
        "y_pred.value_counts()"
      ],
      "execution_count": 346,
      "outputs": [
        {
          "output_type": "execute_result",
          "data": {
            "text/plain": [
              "functional                 7869\n",
              "non functional             5674\n",
              "functional needs repair     815\n",
              "dtype: int64"
            ]
          },
          "metadata": {
            "tags": []
          },
          "execution_count": 346
        }
      ]
    },
    {
      "metadata": {
        "id": "18uYAHUddJAS",
        "colab_type": "code",
        "colab": {}
      },
      "cell_type": "code",
      "source": [
        "submission['status_group']=y_pred"
      ],
      "execution_count": 0,
      "outputs": []
    },
    {
      "metadata": {
        "id": "ZUfB5cOydqoy",
        "colab_type": "code",
        "colab": {}
      },
      "cell_type": "code",
      "source": [
        "from google.colab import files\n",
        "\n",
        "submission.to_csv('test_labels.csv',index=False)\n",
        "files.download('test_labels.csv')"
      ],
      "execution_count": 0,
      "outputs": []
    },
    {
      "metadata": {
        "id": "18EI_xg7hY1A",
        "colab_type": "text"
      },
      "cell_type": "markdown",
      "source": [
        ""
      ]
    }
  ]
}